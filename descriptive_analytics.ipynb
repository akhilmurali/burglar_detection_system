{
 "cells": [
  {
   "cell_type": "code",
   "execution_count": 1,
   "id": "9fb73618",
   "metadata": {},
   "outputs": [
    {
     "name": "stderr",
     "output_type": "stream",
     "text": [
      "21/09/09 22:41:32 WARN Utils: Your hostname, ARK resolves to a loopback address: 127.0.1.1; using 192.168.1.4 instead (on interface wlp5s0)\n",
      "21/09/09 22:41:32 WARN Utils: Set SPARK_LOCAL_IP if you need to bind to another address\n",
      "WARNING: An illegal reflective access operation has occurred\n",
      "WARNING: Illegal reflective access by org.apache.spark.unsafe.Platform (file:/opt/spark/jars/spark-unsafe_2.12-3.1.2.jar) to constructor java.nio.DirectByteBuffer(long,int)\n",
      "WARNING: Please consider reporting this to the maintainers of org.apache.spark.unsafe.Platform\n",
      "WARNING: Use --illegal-access=warn to enable warnings of further illegal reflective access operations\n",
      "WARNING: All illegal access operations will be denied in a future release\n",
      "21/09/09 22:41:33 WARN NativeCodeLoader: Unable to load native-hadoop library for your platform... using builtin-java classes where applicable\n",
      "Using Spark's default log4j profile: org/apache/spark/log4j-defaults.properties\n",
      "Setting default log level to \"WARN\".\n",
      "To adjust logging level use sc.setLogLevel(newLevel). For SparkR, use setLogLevel(newLevel).\n"
     ]
    }
   ],
   "source": [
    "import findspark\n",
    "findspark.init('/opt/spark')\n",
    "from pyspark.sql import SparkSession\n",
    "spark = SparkSession.builder.getOrCreate()\n",
    "data = spark.read.csv('./MOCK_DATA.csv', inferSchema=True, header=True)"
   ]
  },
  {
   "cell_type": "code",
   "execution_count": 2,
   "id": "df40f172",
   "metadata": {},
   "outputs": [
    {
     "name": "stdout",
     "output_type": "stream",
     "text": [
      "+--------------------+--------+-----------------+------+---------+-----+\n",
      "|                  id|    time|doppler_frequency|weight|IR_Sensor|label|\n",
      "+--------------------+--------+-----------------+------+---------+-----+\n",
      "|87e1edb0-f1ce-48a...| 6:20:13|            102.7| 75.24|      101|    0|\n",
      "|5b174bee-0f6f-476...|15:51:59|           107.61| 70.26|       89|    0|\n",
      "|923ea99e-74b8-4ad...|15:21:04|           100.99| 73.38|      223|    0|\n",
      "|c49fe2e1-c20c-445...|12:33:55|           105.95| 77.89|       64|    0|\n",
      "|49171217-57a9-48e...| 8:07:46|            89.35| 71.47|      164|    0|\n",
      "|5cfd855c-86e9-4e6...|23:54:55|           105.38| 74.72|       13|    1|\n",
      "|ac845a19-b37d-4d6...|11:10:14|            94.26| 63.88|      110|    0|\n",
      "|d966519e-047a-413...|16:23:18|            102.6| 59.14|       13|    1|\n",
      "|b2f0f47f-6280-4f3...| 5:52:29|           107.38| 78.22|      163|    0|\n",
      "|4b6474fd-ebb5-465...| 0:42:18|           111.73| 68.41|       51|    0|\n",
      "|b9bbc6fa-9b84-4f4...| 7:20:09|           106.81| 81.78|      104|    1|\n",
      "|1ce4fa96-2b07-482...|19:04:09|            97.49| 69.21|      108|    0|\n",
      "|6450a5cc-f442-414...| 0:08:57|           104.71| 75.28|      204|    0|\n",
      "|5a764b53-e9bf-431...|19:46:00|           104.23| 79.97|      206|    0|\n",
      "|e96b84d7-e1f1-488...|21:45:05|            94.17| 79.12|      184|    1|\n",
      "|423a00f6-4f3c-467...|17:51:44|           102.04| 80.98|        0|    1|\n",
      "|f182decd-aa0b-42c...| 4:28:56|            85.33| 82.31|      120|    1|\n",
      "|d52d11fd-7cef-4ee...|18:15:14|            96.66| 76.01|      161|    1|\n",
      "|d08b7eaf-6261-4e5...| 6:03:34|            89.57| 78.29|      172|    0|\n",
      "|f758d58c-891a-41b...| 2:16:50|            85.64| 73.86|      153|    0|\n",
      "+--------------------+--------+-----------------+------+---------+-----+\n",
      "only showing top 20 rows\n",
      "\n"
     ]
    }
   ],
   "source": [
    "data.show()"
   ]
  },
  {
   "cell_type": "code",
   "execution_count": 3,
   "id": "47eb4531",
   "metadata": {},
   "outputs": [
    {
     "name": "stderr",
     "output_type": "stream",
     "text": [
      "                                                                                \r"
     ]
    },
    {
     "data": {
      "text/plain": [
       "DataFrame[summary: string, id: string, time: string, doppler_frequency: string, weight: string, IR_Sensor: string, label: string]"
      ]
     },
     "execution_count": 3,
     "metadata": {},
     "output_type": "execute_result"
    }
   ],
   "source": [
    "data.summary()"
   ]
  },
  {
   "cell_type": "code",
   "execution_count": 9,
   "id": "9e79b05a",
   "metadata": {},
   "outputs": [],
   "source": [
    "from pyspark.ml.feature import VectorAssembler\n",
    "assembler = VectorAssembler(inputCols=['doppler_frequency', 'weight', 'IR_Sensor'], outputCol='features')\n",
    "data = assembler.transform(data)"
   ]
  },
  {
   "cell_type": "code",
   "execution_count": 10,
   "id": "caeede18",
   "metadata": {},
   "outputs": [],
   "source": [
    "from pyspark.ml.classification import RandomForestClassifier\n",
    "algo = RandomForestClassifier(featuresCol='features', labelCol='label')\n",
    "model = algo.fit(data)"
   ]
  },
  {
   "cell_type": "code",
   "execution_count": 11,
   "id": "5b7c0871",
   "metadata": {},
   "outputs": [],
   "source": [
    "predictions = model.transform(data)"
   ]
  },
  {
   "cell_type": "code",
   "execution_count": 13,
   "id": "c66365ea",
   "metadata": {},
   "outputs": [
    {
     "name": "stdout",
     "output_type": "stream",
     "text": [
      "+-----+----------+--------------------+\n",
      "|label|prediction|         probability|\n",
      "+-----+----------+--------------------+\n",
      "|    0|       0.0|[0.54831819958797...|\n",
      "|    0|       0.0|[0.54881404687007...|\n",
      "|    0|       0.0|[0.54508387612033...|\n",
      "|    0|       0.0|[0.62579006707527...|\n",
      "|    0|       0.0|[0.50580277203545...|\n",
      "|    1|       1.0|[0.42224816937221...|\n",
      "|    0|       1.0|[0.44334677688311...|\n",
      "|    1|       1.0|[0.29950673915376...|\n",
      "|    0|       0.0|[0.58597507069939...|\n",
      "|    0|       0.0|[0.50524503064516...|\n",
      "|    1|       0.0|[0.56397055279667...|\n",
      "|    0|       1.0|[0.41504013379647...|\n",
      "|    0|       0.0|[0.53855179099179...|\n",
      "|    0|       0.0|[0.56988497203167...|\n",
      "|    1|       0.0|[0.51093850095774...|\n",
      "|    1|       1.0|[0.44422170977655...|\n",
      "|    1|       1.0|[0.33607539366079...|\n",
      "|    1|       1.0|[0.46895939788258...|\n",
      "|    0|       0.0|[0.54355591946092...|\n",
      "|    0|       1.0|[0.47384827044263...|\n",
      "+-----+----------+--------------------+\n",
      "only showing top 20 rows\n",
      "\n"
     ]
    }
   ],
   "source": [
    "predictions.select(['label', 'prediction', 'probability']).show()"
   ]
  },
  {
   "cell_type": "code",
   "execution_count": 14,
   "id": "85b1bf8c",
   "metadata": {},
   "outputs": [
    {
     "data": {
      "text/plain": [
       "0.7392129568518278"
      ]
     },
     "execution_count": 14,
     "metadata": {},
     "output_type": "execute_result"
    }
   ],
   "source": [
    "from pyspark.ml.evaluation import BinaryClassificationEvaluator\n",
    "evaluator = BinaryClassificationEvaluator(labelCol='label', metricName='areaUnderROC')\n",
    "evaluator.evaluate(predictions)"
   ]
  },
  {
   "cell_type": "code",
   "execution_count": 15,
   "id": "bbbe96c1",
   "metadata": {},
   "outputs": [],
   "source": [
    "# Evaluation using sci-kit learn\n",
    "y_true = predictions.select(['label']).collect()\n",
    "y_pred = predictions.select(['prediction']).collect()"
   ]
  },
  {
   "cell_type": "code",
   "execution_count": 17,
   "id": "36d582ad",
   "metadata": {},
   "outputs": [],
   "source": [
    "from sklearn.metrics import classification_report, confusion_matrix"
   ]
  },
  {
   "cell_type": "code",
   "execution_count": 18,
   "id": "4c49b718",
   "metadata": {},
   "outputs": [
    {
     "name": "stdout",
     "output_type": "stream",
     "text": [
      "              precision    recall  f1-score   support\n",
      "\n",
      "           0       0.66      0.69      0.67       499\n",
      "           1       0.68      0.65      0.66       501\n",
      "\n",
      "    accuracy                           0.67      1000\n",
      "   macro avg       0.67      0.67      0.67      1000\n",
      "weighted avg       0.67      0.67      0.67      1000\n",
      "\n"
     ]
    }
   ],
   "source": [
    "print(classification_report(y_true, y_pred))"
   ]
  }
 ],
 "metadata": {
  "kernelspec": {
   "display_name": "Python 3 (ipykernel)",
   "language": "python",
   "name": "python3"
  },
  "language_info": {
   "codemirror_mode": {
    "name": "ipython",
    "version": 3
   },
   "file_extension": ".py",
   "mimetype": "text/x-python",
   "name": "python",
   "nbconvert_exporter": "python",
   "pygments_lexer": "ipython3",
   "version": "3.8.10"
  }
 },
 "nbformat": 4,
 "nbformat_minor": 5
}
