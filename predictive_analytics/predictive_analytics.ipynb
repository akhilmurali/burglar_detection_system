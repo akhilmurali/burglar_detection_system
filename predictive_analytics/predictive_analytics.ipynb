{
 "cells": [
  {
   "cell_type": "code",
   "execution_count": 1,
   "id": "9fb73618",
   "metadata": {},
   "outputs": [
    {
     "name": "stderr",
     "output_type": "stream",
     "text": [
      "21/09/10 00:04:41 WARN Utils: Your hostname, ARK resolves to a loopback address: 127.0.1.1; using 192.168.1.4 instead (on interface wlp5s0)\n",
      "21/09/10 00:04:41 WARN Utils: Set SPARK_LOCAL_IP if you need to bind to another address\n",
      "WARNING: An illegal reflective access operation has occurred\n",
      "WARNING: Illegal reflective access by org.apache.spark.unsafe.Platform (file:/opt/spark/jars/spark-unsafe_2.12-3.1.2.jar) to constructor java.nio.DirectByteBuffer(long,int)\n",
      "WARNING: Please consider reporting this to the maintainers of org.apache.spark.unsafe.Platform\n",
      "WARNING: Use --illegal-access=warn to enable warnings of further illegal reflective access operations\n",
      "WARNING: All illegal access operations will be denied in a future release\n",
      "21/09/10 00:04:42 WARN NativeCodeLoader: Unable to load native-hadoop library for your platform... using builtin-java classes where applicable\n",
      "Using Spark's default log4j profile: org/apache/spark/log4j-defaults.properties\n",
      "Setting default log level to \"WARN\".\n",
      "To adjust logging level use sc.setLogLevel(newLevel). For SparkR, use setLogLevel(newLevel).\n",
      "21/09/10 00:04:43 WARN Utils: Service 'SparkUI' could not bind on port 4040. Attempting port 4041.\n",
      "21/09/10 00:04:43 WARN Utils: Service 'SparkUI' could not bind on port 4041. Attempting port 4042.\n"
     ]
    }
   ],
   "source": [
    "import findspark\n",
    "findspark.init('/opt/spark')\n",
    "from pyspark.sql import SparkSession\n",
    "spark = SparkSession.builder.getOrCreate()\n",
    "data = spark.read.csv('./MOCK_DATA.csv', inferSchema=True, header=True)"
   ]
  },
  {
   "cell_type": "code",
   "execution_count": 5,
   "id": "df40f172",
   "metadata": {},
   "outputs": [
    {
     "name": "stdout",
     "output_type": "stream",
     "text": [
      "+--------+\n",
      "|    time|\n",
      "+--------+\n",
      "| 6:20:13|\n",
      "|15:51:59|\n",
      "|15:21:04|\n",
      "|12:33:55|\n",
      "| 8:07:46|\n",
      "|23:54:55|\n",
      "|11:10:14|\n",
      "|16:23:18|\n",
      "| 5:52:29|\n",
      "| 0:42:18|\n",
      "| 7:20:09|\n",
      "|19:04:09|\n",
      "| 0:08:57|\n",
      "|19:46:00|\n",
      "|21:45:05|\n",
      "|17:51:44|\n",
      "| 4:28:56|\n",
      "|18:15:14|\n",
      "| 6:03:34|\n",
      "| 2:16:50|\n",
      "+--------+\n",
      "only showing top 20 rows\n",
      "\n"
     ]
    }
   ],
   "source": [
    "data.select(['time']).show()"
   ]
  },
  {
   "cell_type": "code",
   "execution_count": 3,
   "id": "6aff034d",
   "metadata": {},
   "outputs": [
    {
     "name": "stderr",
     "output_type": "stream",
     "text": [
      "                                                                                \r"
     ]
    },
    {
     "data": {
      "text/plain": [
       "DataFrame[summary: string, id: string, time: string, doppler_frequency: string, weight: string, IR_Sensor: string, label: string]"
      ]
     },
     "execution_count": 3,
     "metadata": {},
     "output_type": "execute_result"
    }
   ],
   "source": [
    "data.summary()"
   ]
  },
  {
   "cell_type": "code",
   "execution_count": 9,
   "id": "a85e341e",
   "metadata": {},
   "outputs": [],
   "source": [
    "from pyspark.ml.feature import VectorAssembler\n",
    "assembler = VectorAssembler(inputCols=['doppler_frequency', 'weight', 'IR_Sensor'], outputCol='features')\n",
    "data = assembler.transform(data)"
   ]
  },
  {
   "cell_type": "code",
   "execution_count": 19,
   "id": "812a0fa5",
   "metadata": {},
   "outputs": [],
   "source": [
    "from pyspark.ml.feature import StandardScaler\n",
    "scaler = StandardScaler(inputCol=\"features\", outputCol=\"scaled_features\")\n",
    "# The standard scaler can take two additional parameters withStd (True by default. Scales the data to unit SD) \n",
    "# and withMean (False by default. It centers the data with mean before scaling,, Fslse by default).\n",
    "scaler_model = scaler.fit(data)"
   ]
  },
  {
   "cell_type": "code",
   "execution_count": 20,
   "id": "ec5a2497",
   "metadata": {},
   "outputs": [
    {
     "name": "stdout",
     "output_type": "stream",
     "text": [
      "+--------------------+--------+-----------------+------+---------+-----+--------------------+--------------------+\n",
      "|                  id|    time|doppler_frequency|weight|IR_Sensor|label|            features|     scaled_features|\n",
      "+--------------------+--------+-----------------+------+---------+-----+--------------------+--------------------+\n",
      "|87e1edb0-f1ce-48a...| 6:20:13|            102.7| 75.24|      101|    0| [102.7,75.24,101.0]|[16.2372914302466...|\n",
      "|5b174bee-0f6f-476...|15:51:59|           107.61| 70.26|       89|    0| [107.61,70.26,89.0]|[17.0135825784697...|\n",
      "|923ea99e-74b8-4ad...|15:21:04|           100.99| 73.38|      223|    0|[100.99,73.38,223.0]|[15.9669334132484...|\n",
      "|c49fe2e1-c20c-445...|12:33:55|           105.95| 77.89|       64|    0| [105.95,77.89,64.0]|[16.7511297666468...|\n",
      "|49171217-57a9-48e...| 8:07:46|            89.35| 71.47|      164|    0| [89.35,71.47,164.0]|[14.1266016484181...|\n",
      "|5cfd855c-86e9-4e6...|23:54:55|           105.38| 74.72|       13|    1| [105.38,74.72,13.0]|[16.6610104276474...|\n",
      "|ac845a19-b37d-4d6...|11:10:14|            94.26| 63.88|      110|    0| [94.26,63.88,110.0]|[14.9028927966411...|\n",
      "|d966519e-047a-413...|16:23:18|            102.6| 59.14|       13|    1|  [102.6,59.14,13.0]|[16.2214810198958...|\n",
      "|b2f0f47f-6280-4f3...| 5:52:29|           107.38| 78.22|      163|    0|[107.38,78.22,163.0]|[16.9772186346629...|\n",
      "|4b6474fd-ebb5-465...| 0:42:18|           111.73| 68.41|       51|    0| [111.73,68.41,51.0]|[17.6649714849217...|\n",
      "|b9bbc6fa-9b84-4f4...| 7:20:09|           106.81| 81.78|      104|    1|[106.81,81.78,104.0]|[16.8870992956635...|\n",
      "|1ce4fa96-2b07-482...|19:04:09|            97.49| 69.21|      108|    0| [97.49,69.21,108.0]|[15.4135690509712...|\n",
      "|6450a5cc-f442-414...| 0:08:57|           104.71| 75.28|      204|    0|[104.71,75.28,204.0]|[16.5550806782972...|\n",
      "|5a764b53-e9bf-431...|19:46:00|           104.23| 79.97|      206|    0|[104.23,79.97,206.0]|[16.4791907086135...|\n",
      "|e96b84d7-e1f1-488...|21:45:05|            94.17| 79.12|      184|    1| [94.17,79.12,184.0]|[14.8886634273254...|\n",
      "|423a00f6-4f3c-467...|17:51:44|           102.04| 80.98|        0|    1|  [102.04,80.98,0.0]|[16.1329427219315...|\n",
      "|f182decd-aa0b-42c...| 4:28:56|            85.33| 82.31|      120|    1| [85.33,82.31,120.0]|[13.4910231523169...|\n",
      "|d52d11fd-7cef-4ee...|18:15:14|            96.66| 76.01|      161|    1| [96.66,76.01,161.0]|[15.2823426450598...|\n",
      "|d08b7eaf-6261-4e5...| 6:03:34|            89.57| 78.29|      172|    0| [89.57,78.29,172.0]|[14.1613845511898...|\n",
      "|f758d58c-891a-41b...| 2:16:50|            85.64| 73.86|      153|    0| [85.64,73.86,153.0]|[13.5400354244043...|\n",
      "+--------------------+--------+-----------------+------+---------+-----+--------------------+--------------------+\n",
      "only showing top 20 rows\n",
      "\n"
     ]
    }
   ],
   "source": [
    "scaled_data = scaler_model.transform(data)\n",
    "scaled_data.show()"
   ]
  },
  {
   "cell_type": "code",
   "execution_count": 21,
   "id": "1d4270f5",
   "metadata": {},
   "outputs": [
    {
     "name": "stdout",
     "output_type": "stream",
     "text": [
      "+--------------------+--------+-----------------+------+---------+-----+--------------------+--------------------+\n",
      "|                  id|    time|doppler_frequency|weight|IR_Sensor|label|            features|     features_minmax|\n",
      "+--------------------+--------+-----------------+------+---------+-----+--------------------+--------------------+\n",
      "|87e1edb0-f1ce-48a...| 6:20:13|            102.7| 75.24|      101|    0| [102.7,75.24,101.0]|[0.56041611096292...|\n",
      "|5b174bee-0f6f-476...|15:51:59|           107.61| 70.26|       89|    0| [107.61,70.26,89.0]|[0.69138436916511...|\n",
      "|923ea99e-74b8-4ad...|15:21:04|           100.99| 73.38|      223|    0|[100.99,73.38,223.0]|[0.51480394771939...|\n",
      "|c49fe2e1-c20c-445...|12:33:55|           105.95| 77.89|       64|    0| [105.95,77.89,64.0]|[0.64710589490530...|\n",
      "|49171217-57a9-48e...| 8:07:46|            89.35| 71.47|      164|    0| [89.35,71.47,164.0]|[0.20432115230728...|\n",
      "|5cfd855c-86e9-4e6...|23:54:55|           105.38| 74.72|       13|    1| [105.38,74.72,13.0]|[0.63190184049079...|\n",
      "|ac845a19-b37d-4d6...|11:10:14|            94.26| 63.88|      110|    0| [94.26,63.88,110.0]|[0.33528941050946...|\n",
      "|d966519e-047a-413...|16:23:18|            102.6| 59.14|       13|    1|  [102.6,59.14,13.0]|[0.55774873299546...|\n",
      "|b2f0f47f-6280-4f3...| 5:52:29|           107.38| 78.22|      163|    0|[107.38,78.22,163.0]|[0.68524939983995...|\n",
      "|4b6474fd-ebb5-465...| 0:42:18|           111.73| 68.41|       51|    0| [111.73,68.41,51.0]|[0.80128034142437...|\n",
      "|b9bbc6fa-9b84-4f4...| 7:20:09|           106.81| 81.78|      104|    1|[106.81,81.78,104.0]|[0.67004534542544...|\n",
      "|1ce4fa96-2b07-482...|19:04:09|            97.49| 69.21|      108|    0| [97.49,69.21,108.0]|[0.42144571885836...|\n",
      "|6450a5cc-f442-414...| 0:08:57|           104.71| 75.28|      204|    0|[104.71,75.28,204.0]|[0.61403040810882...|\n",
      "|5a764b53-e9bf-431...|19:46:00|           104.23| 79.97|      206|    0|[104.23,79.97,206.0]|[0.60122699386503...|\n",
      "|e96b84d7-e1f1-488...|21:45:05|            94.17| 79.12|      184|    1| [94.17,79.12,184.0]|[0.33288877033875...|\n",
      "|423a00f6-4f3c-467...|17:51:44|           102.04| 80.98|        0|    1|  [102.04,80.98,0.0]|[0.54281141637770...|\n",
      "|f182decd-aa0b-42c...| 4:28:56|            85.33| 82.31|      120|    1| [85.33,82.31,120.0]|[0.09709255801547...|\n",
      "|d52d11fd-7cef-4ee...|18:15:14|            96.66| 76.01|      161|    1| [96.66,76.01,161.0]|[0.39930648172846...|\n",
      "|d08b7eaf-6261-4e5...| 6:03:34|            89.57| 78.29|      172|    0| [89.57,78.29,172.0]|[0.21018938383568...|\n",
      "|f758d58c-891a-41b...| 2:16:50|            85.64| 73.86|      153|    0| [85.64,73.86,153.0]|[0.10536142971459...|\n",
      "+--------------------+--------+-----------------+------+---------+-----+--------------------+--------------------+\n",
      "only showing top 20 rows\n",
      "\n"
     ]
    }
   ],
   "source": [
    "# Using a min max scaler to normalize the sensor data\n",
    "from pyspark.ml.feature import MinMaxScaler\n",
    "scaler = MinMaxScaler(min=0, max=1, inputCol='features', outputCol='features_minmax')\n",
    "scaler_model = scaler.fit(data)\n",
    "data = scaler_model.transform(data)\n",
    "data.show()"
   ]
  },
  {
   "cell_type": "code",
   "execution_count": 23,
   "id": "569d4ee3",
   "metadata": {},
   "outputs": [],
   "source": [
    "from pyspark.ml.classification import RandomForestClassifier\n",
    "algo = RandomForestClassifier(featuresCol='features_minmax', labelCol='label')\n",
    "model_features = algo.fit(data)"
   ]
  },
  {
   "cell_type": "code",
   "execution_count": 24,
   "id": "94ff42bb",
   "metadata": {},
   "outputs": [],
   "source": [
    "predictions = model.transform(data)"
   ]
  },
  {
   "cell_type": "code",
   "execution_count": 25,
   "id": "ac298912",
   "metadata": {},
   "outputs": [
    {
     "name": "stdout",
     "output_type": "stream",
     "text": [
      "+-----+----------+--------------------+\n",
      "|label|prediction|         probability|\n",
      "+-----+----------+--------------------+\n",
      "|    0|       0.0|[0.54831819958797...|\n",
      "|    0|       0.0|[0.54881404687007...|\n",
      "|    0|       0.0|[0.54508387612033...|\n",
      "|    0|       0.0|[0.62579006707527...|\n",
      "|    0|       0.0|[0.50580277203545...|\n",
      "|    1|       1.0|[0.42224816937221...|\n",
      "|    0|       1.0|[0.44334677688311...|\n",
      "|    1|       1.0|[0.29950673915376...|\n",
      "|    0|       0.0|[0.58597507069939...|\n",
      "|    0|       0.0|[0.50524503064516...|\n",
      "|    1|       0.0|[0.56397055279667...|\n",
      "|    0|       1.0|[0.41504013379647...|\n",
      "|    0|       0.0|[0.53855179099179...|\n",
      "|    0|       0.0|[0.56988497203167...|\n",
      "|    1|       0.0|[0.51093850095774...|\n",
      "|    1|       1.0|[0.44422170977655...|\n",
      "|    1|       1.0|[0.33607539366079...|\n",
      "|    1|       1.0|[0.46895939788258...|\n",
      "|    0|       0.0|[0.54355591946092...|\n",
      "|    0|       1.0|[0.47384827044263...|\n",
      "+-----+----------+--------------------+\n",
      "only showing top 20 rows\n",
      "\n"
     ]
    }
   ],
   "source": [
    "predictions.select(['label', 'prediction', 'probability']).show()"
   ]
  },
  {
   "cell_type": "code",
   "execution_count": 26,
   "id": "bcd9cd22",
   "metadata": {},
   "outputs": [
    {
     "data": {
      "text/plain": [
       "0.7392129568518278"
      ]
     },
     "execution_count": 26,
     "metadata": {},
     "output_type": "execute_result"
    }
   ],
   "source": [
    "from pyspark.ml.evaluation import BinaryClassificationEvaluator\n",
    "evaluator = BinaryClassificationEvaluator(labelCol='label', metricName='areaUnderROC')\n",
    "evaluator.evaluate(predictions)"
   ]
  },
  {
   "cell_type": "code",
   "execution_count": 27,
   "id": "2e1522b6",
   "metadata": {},
   "outputs": [],
   "source": [
    "# Evaluation using sci-kit learn\n",
    "y_true = predictions.select(['label']).collect()\n",
    "y_pred = predictions.select(['prediction']).collect()"
   ]
  },
  {
   "cell_type": "code",
   "execution_count": 28,
   "id": "b7800f00",
   "metadata": {},
   "outputs": [],
   "source": [
    "from sklearn.metrics import classification_report, confusion_matrix"
   ]
  },
  {
   "cell_type": "code",
   "execution_count": 29,
   "id": "2799a9ca",
   "metadata": {},
   "outputs": [
    {
     "name": "stdout",
     "output_type": "stream",
     "text": [
      "              precision    recall  f1-score   support\n",
      "\n",
      "           0       0.66      0.69      0.67       499\n",
      "           1       0.68      0.65      0.66       501\n",
      "\n",
      "    accuracy                           0.67      1000\n",
      "   macro avg       0.67      0.67      0.67      1000\n",
      "weighted avg       0.67      0.67      0.67      1000\n",
      "\n"
     ]
    }
   ],
   "source": [
    "print(classification_report(y_true, y_pred))"
   ]
  }
 ],
 "metadata": {
  "kernelspec": {
   "display_name": "Python 3 (ipykernel)",
   "language": "python",
   "name": "python3"
  },
  "language_info": {
   "codemirror_mode": {
    "name": "ipython",
    "version": 3
   },
   "file_extension": ".py",
   "mimetype": "text/x-python",
   "name": "python",
   "nbconvert_exporter": "python",
   "pygments_lexer": "ipython3",
   "version": "3.8.10"
  }
 },
 "nbformat": 4,
 "nbformat_minor": 5
}
